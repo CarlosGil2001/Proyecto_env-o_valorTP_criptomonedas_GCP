{
 "cells": [
  {
   "cell_type": "code",
   "execution_count": null,
   "id": "1a2e9339",
   "metadata": {},
   "outputs": [],
   "source": [
    "# Para la manipulación de datos\n",
    "import pandas as pd\n",
    "# Para el manejo de array\n",
    "import numpy as np\n",
    "# Librerías necesarias de Selenium\n",
    "from selenium import webdriver\n",
    "from selenium.webdriver.chrome.service import Service\n",
    "from selenium.webdriver.common.by import By"
   ]
  },
  {
   "cell_type": "code",
   "execution_count": 7,
   "id": "00f4044f",
   "metadata": {},
   "outputs": [],
   "source": [
    "#!pip install selenium"
   ]
  },
  {
   "cell_type": "code",
   "execution_count": 2,
   "id": "dab860ab",
   "metadata": {},
   "outputs": [],
   "source": [
    "# Configuraciones del controlador\n",
    "service = Service(executable_path=r'C:/chromedriver_win32/chromedriver.exe') # ruta del controlador\n",
    "options = webdriver.ChromeOptions()\n",
    "options.add_argument('--headless')\n",
    "options.add_argument('--no-sandbox')\n",
    "options.add_argument('--disable-dev-shm-usage')\n",
    "browser = webdriver.Chrome(service=service, options=options)"
   ]
  },
  {
   "cell_type": "code",
   "execution_count": 3,
   "id": "feb657c0",
   "metadata": {},
   "outputs": [],
   "source": [
    "# Ingresando a página web\n",
    "browser.get('https://cuantoestaeldolar.pe/')"
   ]
  },
  {
   "cell_type": "code",
   "execution_count": 6,
   "id": "fcce1256",
   "metadata": {},
   "outputs": [
    {
     "data": {
      "text/html": [
       "<div>\n",
       "<style scoped>\n",
       "    .dataframe tbody tr th:only-of-type {\n",
       "        vertical-align: middle;\n",
       "    }\n",
       "\n",
       "    .dataframe tbody tr th {\n",
       "        vertical-align: top;\n",
       "    }\n",
       "\n",
       "    .dataframe thead th {\n",
       "        text-align: right;\n",
       "    }\n",
       "</style>\n",
       "<table border=\"1\" class=\"dataframe\">\n",
       "  <thead>\n",
       "    <tr style=\"text-align: right;\">\n",
       "      <th></th>\n",
       "      <th>Moneda</th>\n",
       "      <th>Compra</th>\n",
       "      <th>Estado_Compra</th>\n",
       "      <th>Venta</th>\n",
       "      <th>Estado_Venta</th>\n",
       "    </tr>\n",
       "  </thead>\n",
       "  <tbody>\n",
       "    <tr>\n",
       "      <th>0</th>\n",
       "      <td>Dólar</td>\n",
       "      <td>3.63</td>\n",
       "      <td>-0.17</td>\n",
       "      <td>3.65</td>\n",
       "      <td>-0.18</td>\n",
       "    </tr>\n",
       "    <tr>\n",
       "      <th>1</th>\n",
       "      <td>Sunat</td>\n",
       "      <td>3.641</td>\n",
       "      <td>0.00</td>\n",
       "      <td>3.648</td>\n",
       "      <td>0.00</td>\n",
       "    </tr>\n",
       "    <tr>\n",
       "      <th>2</th>\n",
       "      <td>Euro</td>\n",
       "      <td>4.03</td>\n",
       "      <td>4.03</td>\n",
       "      <td>4.11</td>\n",
       "      <td>4.11</td>\n",
       "    </tr>\n",
       "    <tr>\n",
       "      <th>3</th>\n",
       "      <td>Yuan</td>\n",
       "      <td>0.45</td>\n",
       "      <td>0.45</td>\n",
       "      <td>0.53</td>\n",
       "      <td>0.53</td>\n",
       "    </tr>\n",
       "  </tbody>\n",
       "</table>\n",
       "</div>"
      ],
      "text/plain": [
       "  Moneda Compra Estado_Compra  Venta Estado_Venta\n",
       "0  Dólar   3.63         -0.17   3.65        -0.18\n",
       "1  Sunat  3.641          0.00  3.648         0.00\n",
       "2   Euro   4.03          4.03   4.11         4.11\n",
       "3   Yuan   0.45          0.45   0.53         0.53"
      ]
     },
     "execution_count": 6,
     "metadata": {},
     "output_type": "execute_result"
    }
   ],
   "source": [
    "# Obtener los datos de la Tabla de los valores de Tipo de Cambio\n",
    "data = []\n",
    "for i in range(1, 5):\n",
    "    xpath = f'/html/body/div[1]/main/div/div/div[4]/div[1]/div/div/div[2]/div[{i}]'\n",
    "    text = browser.find_element(By.XPATH, xpath).text\n",
    "    lines = text.split('\\n')\n",
    "    data.append(lines)\n",
    "\n",
    "data = np.array(data).reshape(-1, 5)\n",
    "df_tp = pd.DataFrame(data, columns=['Moneda', 'Compra', 'Estado_Compra', 'Venta','Estado_Venta'])\n",
    "df_tp"
   ]
  }
 ],
 "metadata": {
  "kernelspec": {
   "display_name": "Python 3 (ipykernel)",
   "language": "python",
   "name": "python3"
  },
  "language_info": {
   "codemirror_mode": {
    "name": "ipython",
    "version": 3
   },
   "file_extension": ".py",
   "mimetype": "text/x-python",
   "name": "python",
   "nbconvert_exporter": "python",
   "pygments_lexer": "ipython3",
   "version": "3.10.7"
  }
 },
 "nbformat": 4,
 "nbformat_minor": 5
}
