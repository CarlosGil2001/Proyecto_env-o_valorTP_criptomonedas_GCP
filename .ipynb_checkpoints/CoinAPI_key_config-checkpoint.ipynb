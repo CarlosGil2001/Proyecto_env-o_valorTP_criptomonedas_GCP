{
 "cells": [
  {
   "cell_type": "code",
   "execution_count": null,
   "id": "91c202c7",
   "metadata": {},
   "outputs": [],
   "source": [
    "API_KEY_COIN = 'C53C9FB7-F7A0-49FC-A0FA-E4781F11E8F8'"
   ]
  }
 ],
 "metadata": {
  "kernelspec": {
   "display_name": "Python 3 (ipykernel)",
   "language": "python",
   "name": "python3"
  },
  "language_info": {
   "codemirror_mode": {
    "name": "ipython",
    "version": 3
   },
   "file_extension": ".py",
   "mimetype": "text/x-python",
   "name": "python",
   "nbconvert_exporter": "python",
   "pygments_lexer": "ipython3",
   "version": "3.10.7"
  }
 },
 "nbformat": 4,
 "nbformat_minor": 5
}
